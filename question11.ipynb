{
 "cells": [
  {
   "cell_type": "markdown",
   "id": "8b8d6aef-f91b-4e26-8198-6e3225094975",
   "metadata": {},
   "source": [
    "# Camila\n",
    "\n",
    "Notebook for assignment 7"
   ]
  },
  {
   "cell_type": "code",
   "execution_count": 8,
   "id": "e0312fde-cf84-4a08-b33a-2f0d8e4335c5",
   "metadata": {
    "tags": []
   },
   "outputs": [
    {
     "data": {
      "text/plain": [
       "5.0"
      ]
     },
     "execution_count": 8,
     "metadata": {},
     "output_type": "execute_result"
    }
   ],
   "source": [
    "import numpy as np\n",
    "\n",
    "def compute_mean(list_of_numbers):\n",
    "    sum_numbers = sum(list_of_numbers)\n",
    "    len_numbers = len(list_of_numbers)\n",
    "    mean = sum_numbers/len_numbers\n",
    "    return mean \n",
    "\n",
    "compute_mean([2, 4, 6, 8])"
   ]
  },
  {
   "cell_type": "markdown",
   "id": "2b539579-11ef-4cfa-9c51-7b59d2795106",
   "metadata": {
    "tags": []
   },
   "source": [
    "The code above creates a function called **compute_mean** which adds a sequence of numbers and then divides their total sum by the number of integers thus calculating the mean. Here you can see the mathematical notation:\n",
    "\n",
    "$$\\overline{x}=\\frac{x_1 + x_2 + ... X_n} {n} = \\frac{1}{n} \\left(\\sum_{i=1}^{n} x_{i} \\right) $$"
   ]
  }
 ],
 "metadata": {
  "kernelspec": {
   "display_name": "Python 3 (ipykernel)",
   "language": "python",
   "name": "python3"
  },
  "language_info": {
   "codemirror_mode": {
    "name": "ipython",
    "version": 3
   },
   "file_extension": ".py",
   "mimetype": "text/x-python",
   "name": "python",
   "nbconvert_exporter": "python",
   "pygments_lexer": "ipython3",
   "version": "3.10.9"
  }
 },
 "nbformat": 4,
 "nbformat_minor": 5
}
